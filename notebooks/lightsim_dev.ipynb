{
 "cells": [
  {
   "cell_type": "code",
   "execution_count": null,
   "metadata": {
    "collapsed": false
   },
   "outputs": [],
   "source": [
    "%matplotlib notebook\n",
    "%autoreload 2\n",
    "import numpy as np\n",
    "import numpy.ma as ma\n",
    "import matplotlib.pyplot as plt\n",
    "from lightsim.lightsim import LightsimConfig, LightSource"
   ]
  },
  {
   "cell_type": "code",
   "execution_count": null,
   "metadata": {
    "collapsed": false
   },
   "outputs": [],
   "source": [
    "cfg = LightsimConfig()\n",
    "etch_pattern = np.zeros((512, 512), dtype=np.bool)\n",
    "etch_pattern[128:-128, :] = True\n",
    "etch_pattern[:, 128:-128] = True\n",
    "cfg.etch_pattern = etch_pattern\n",
    "\n",
    "N = 100000"
   ]
  },
  {
   "cell_type": "code",
   "execution_count": null,
   "metadata": {
    "collapsed": false
   },
   "outputs": [],
   "source": [
    "ls = LightSource(cfg, 15, 0, 0, np.pi)\n",
    "dirs_x, dirs_y = ls._random_direction_vectors(N)\n",
    "dists, offsets = ls._random_angles(N)\n",
    "min_dist = 2 * np.cos(cfg.alpha_max)\n",
    "max_hops = np.ceil(np.sqrt(cfg.width**2 + cfg.length**2) / min_dist) + 1\n",
    "offsets_x = dirs_x * offsets\n",
    "offsets_y = dirs_y * offsets\n",
    "hops_x = np.dot(np.arange(max_hops)[:, np.newaxis], dirs_x[np.newaxis, :]) + offsets_x[np.newaxis, :]\n",
    "hops_y = np.dot(np.arange(max_hops)[:, np.newaxis], dirs_y[np.newaxis, :]) + offsets_y[np.newaxis, :]\n",
    "coord_x = np.round(hops_x / cfg.width * ls.hits.shape[0]).astype(np.int) + ls.pos_x / cfg.width * ls.hits.shape[0]\n",
    "coord_y = np.round(hops_y / cfg.length * ls.hits.shape[1]).astype(np.int) + ls.pos_y / cfg.length * ls.hits.shape[1]\n",
    "\n",
    "for n in range(coord_x.shape[1]):\n",
    "    cx = np.squeeze(coord_x[:, n]).astype(np.int)\n",
    "    cy = np.squeeze(coord_y[:, n]).astype(np.int)\n",
    "    valid = np.ones_like(cx, dtype=np.bool)\n",
    "    valid[cx < 0] = False\n",
    "    valid[cx >= ls.hits.shape[0]] = False\n",
    "    valid[cy < 0] = False\n",
    "    valid[cy >= ls.hits.shape[1]] = False\n",
    "    vx = cx[valid]\n",
    "    vy = cy[valid]\n",
    "    hits = cfg.etch_pattern[vx, vy]\n",
    "    if np.any(hits):\n",
    "        hidx = np.argmax(hits)\n",
    "        ls.hits[vx[hidx], vy[hidx]] = ls.hits[vx[hidx], vy[hidx]] + 1"
   ]
  },
  {
   "cell_type": "code",
   "execution_count": null,
   "metadata": {
    "collapsed": false,
    "scrolled": true
   },
   "outputs": [],
   "source": [
    "plt.figure()\n",
    "plt.imshow(etch_pattern, cmap=plt.cm.gray)\n",
    "#plt.xlim(-10, 522)\n",
    "#plt.ylim(-10, 522)\n",
    "plt.hold(True)\n",
    "plt.plot(256, 0, 'bo')\n",
    "plt.plot(vcoord_x.flatten(), vcoord_y.flatten(), 'rx', alpha=0.05)"
   ]
  },
  {
   "cell_type": "code",
   "execution_count": null,
   "metadata": {
    "collapsed": false
   },
   "outputs": [],
   "source": [
    "plt.figure()\n",
    "plt.imshow(ls.hits > 0, cmap=plt.cm.gray)"
   ]
  },
  {
   "cell_type": "code",
   "execution_count": null,
   "metadata": {
    "collapsed": false
   },
   "outputs": [],
   "source": [
    "plt.figure()\n",
    "plt.plot(ls.hits.flatten(), 'x')"
   ]
  }
 ],
 "metadata": {
  "kernelspec": {
   "display_name": "Python 3",
   "language": "python",
   "name": "python3"
  },
  "language_info": {
   "codemirror_mode": {
    "name": "ipython",
    "version": 3
   },
   "file_extension": ".py",
   "mimetype": "text/x-python",
   "name": "python",
   "nbconvert_exporter": "python",
   "pygments_lexer": "ipython3",
   "version": "3.5.0"
  }
 },
 "nbformat": 4,
 "nbformat_minor": 0
}
